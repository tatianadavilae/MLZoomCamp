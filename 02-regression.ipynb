{
 "cells": [
  {
   "cell_type": "code",
   "execution_count": 1,
   "id": "a481de9e",
   "metadata": {},
   "outputs": [],
   "source": [
    "import pandas as pd\n",
    "import numpy as np\n",
    "import matplotlib.pyplot as plt\n",
    "from sklearn.model_selection import train_test_split\n",
    "import seaborn as sns"
   ]
  },
  {
   "cell_type": "code",
   "execution_count": 2,
   "id": "b82a8dfe",
   "metadata": {},
   "outputs": [
    {
     "data": {
      "text/plain": [
       "(20640, 10)"
      ]
     },
     "execution_count": 2,
     "metadata": {},
     "output_type": "execute_result"
    }
   ],
   "source": [
    "housing = pd.read_csv('housing.csv')\n",
    "housing.shape"
   ]
  },
  {
   "cell_type": "code",
   "execution_count": 3,
   "id": "c99070a2",
   "metadata": {},
   "outputs": [
    {
     "data": {
      "text/html": [
       "<div>\n",
       "<style scoped>\n",
       "    .dataframe tbody tr th:only-of-type {\n",
       "        vertical-align: middle;\n",
       "    }\n",
       "\n",
       "    .dataframe tbody tr th {\n",
       "        vertical-align: top;\n",
       "    }\n",
       "\n",
       "    .dataframe thead th {\n",
       "        text-align: right;\n",
       "    }\n",
       "</style>\n",
       "<table border=\"1\" class=\"dataframe\">\n",
       "  <thead>\n",
       "    <tr style=\"text-align: right;\">\n",
       "      <th></th>\n",
       "      <th>longitude</th>\n",
       "      <th>latitude</th>\n",
       "      <th>housing_median_age</th>\n",
       "      <th>total_rooms</th>\n",
       "      <th>total_bedrooms</th>\n",
       "      <th>population</th>\n",
       "      <th>households</th>\n",
       "      <th>median_income</th>\n",
       "      <th>median_house_value</th>\n",
       "      <th>ocean_proximity</th>\n",
       "    </tr>\n",
       "  </thead>\n",
       "  <tbody>\n",
       "    <tr>\n",
       "      <th>0</th>\n",
       "      <td>-122.23</td>\n",
       "      <td>37.88</td>\n",
       "      <td>41.0</td>\n",
       "      <td>880.0</td>\n",
       "      <td>129.0</td>\n",
       "      <td>322.0</td>\n",
       "      <td>126.0</td>\n",
       "      <td>8.3252</td>\n",
       "      <td>452600.0</td>\n",
       "      <td>NEAR BAY</td>\n",
       "    </tr>\n",
       "    <tr>\n",
       "      <th>1</th>\n",
       "      <td>-122.22</td>\n",
       "      <td>37.86</td>\n",
       "      <td>21.0</td>\n",
       "      <td>7099.0</td>\n",
       "      <td>1106.0</td>\n",
       "      <td>2401.0</td>\n",
       "      <td>1138.0</td>\n",
       "      <td>8.3014</td>\n",
       "      <td>358500.0</td>\n",
       "      <td>NEAR BAY</td>\n",
       "    </tr>\n",
       "    <tr>\n",
       "      <th>2</th>\n",
       "      <td>-122.24</td>\n",
       "      <td>37.85</td>\n",
       "      <td>52.0</td>\n",
       "      <td>1467.0</td>\n",
       "      <td>190.0</td>\n",
       "      <td>496.0</td>\n",
       "      <td>177.0</td>\n",
       "      <td>7.2574</td>\n",
       "      <td>352100.0</td>\n",
       "      <td>NEAR BAY</td>\n",
       "    </tr>\n",
       "    <tr>\n",
       "      <th>3</th>\n",
       "      <td>-122.25</td>\n",
       "      <td>37.85</td>\n",
       "      <td>52.0</td>\n",
       "      <td>1274.0</td>\n",
       "      <td>235.0</td>\n",
       "      <td>558.0</td>\n",
       "      <td>219.0</td>\n",
       "      <td>5.6431</td>\n",
       "      <td>341300.0</td>\n",
       "      <td>NEAR BAY</td>\n",
       "    </tr>\n",
       "    <tr>\n",
       "      <th>4</th>\n",
       "      <td>-122.25</td>\n",
       "      <td>37.85</td>\n",
       "      <td>52.0</td>\n",
       "      <td>1627.0</td>\n",
       "      <td>280.0</td>\n",
       "      <td>565.0</td>\n",
       "      <td>259.0</td>\n",
       "      <td>3.8462</td>\n",
       "      <td>342200.0</td>\n",
       "      <td>NEAR BAY</td>\n",
       "    </tr>\n",
       "  </tbody>\n",
       "</table>\n",
       "</div>"
      ],
      "text/plain": [
       "   longitude  latitude  housing_median_age  total_rooms  total_bedrooms  \\\n",
       "0    -122.23     37.88                41.0        880.0           129.0   \n",
       "1    -122.22     37.86                21.0       7099.0          1106.0   \n",
       "2    -122.24     37.85                52.0       1467.0           190.0   \n",
       "3    -122.25     37.85                52.0       1274.0           235.0   \n",
       "4    -122.25     37.85                52.0       1627.0           280.0   \n",
       "\n",
       "   population  households  median_income  median_house_value ocean_proximity  \n",
       "0       322.0       126.0         8.3252            452600.0        NEAR BAY  \n",
       "1      2401.0      1138.0         8.3014            358500.0        NEAR BAY  \n",
       "2       496.0       177.0         7.2574            352100.0        NEAR BAY  \n",
       "3       558.0       219.0         5.6431            341300.0        NEAR BAY  \n",
       "4       565.0       259.0         3.8462            342200.0        NEAR BAY  "
      ]
     },
     "execution_count": 3,
     "metadata": {},
     "output_type": "execute_result"
    }
   ],
   "source": [
    "housing.head()"
   ]
  },
  {
   "cell_type": "code",
   "execution_count": 4,
   "id": "40136d7e",
   "metadata": {},
   "outputs": [
    {
     "data": {
      "text/plain": [
       "count     20640.000000\n",
       "mean     206855.816909\n",
       "std      115395.615874\n",
       "min       14999.000000\n",
       "25%      119600.000000\n",
       "50%      179700.000000\n",
       "75%      264725.000000\n",
       "max      500001.000000\n",
       "Name: median_house_value, dtype: float64"
      ]
     },
     "execution_count": 4,
     "metadata": {},
     "output_type": "execute_result"
    }
   ],
   "source": [
    "housing['median_house_value'].describe()"
   ]
  },
  {
   "cell_type": "code",
   "execution_count": 5,
   "id": "2ec1c5a7",
   "metadata": {},
   "outputs": [
    {
     "data": {
      "image/png": "[encoded data removed]",
      "text/plain": [
       "<Figure size 640x480 with 1 Axes>"
      ]
     },
     "metadata": {},
     "output_type": "display_data"
    }
   ],
   "source": [
    "plt.boxplot(housing['median_house_value'], vert=False)\n",
    "plt.show()"
   ]
  },
  {
   "cell_type": "code",
   "execution_count": 6,
   "id": "97e1e245",
   "metadata": {},
   "outputs": [
    {
     "data": {
      "text/plain": [
       "<AxesSubplot: xlabel='total_bedrooms', ylabel='Count'>"
      ]
     },
     "execution_count": 6,
     "metadata": {},
     "output_type": "execute_result"
    },
    {
     "data": {
      "image/png": "[encoded data removed]",
      "text/plain": [
       "<Figure size 640x480 with 1 Axes>"
      ]
     },
     "metadata": {},
     "output_type": "display_data"
    }
   ],
   "source": [
    "sns.histplot(housing.total_bedrooms)"
   ]
  },
  {
   "cell_type": "code",
   "execution_count": 7,
   "id": "cc3002d3",
   "metadata": {},
   "outputs": [
    {
     "data": {
      "text/plain": [
       "(20640, 9)"
      ]
     },
     "execution_count": 7,
     "metadata": {},
     "output_type": "execute_result"
    }
   ],
   "source": [
    "housing = housing[[\n",
    "    'latitude',\n",
    "    'longitude',\n",
    "    'housing_median_age',\n",
    "    'total_rooms',\n",
    "    'total_bedrooms',\n",
    "    'population',\n",
    "    'households',\n",
    "    'median_income',\n",
    "    'median_house_value'\n",
    "]]\n",
    "\n",
    "housing.shape"
   ]
  },
  {
   "cell_type": "code",
   "execution_count": 8,
   "id": "e1d26dd6",
   "metadata": {},
   "outputs": [
    {
     "data": {
      "text/html": [
       "<div>\n",
       "<style scoped>\n",
       "    .dataframe tbody tr th:only-of-type {\n",
       "        vertical-align: middle;\n",
       "    }\n",
       "\n",
       "    .dataframe tbody tr th {\n",
       "        vertical-align: top;\n",
       "    }\n",
       "\n",
       "    .dataframe thead th {\n",
       "        text-align: right;\n",
       "    }\n",
       "</style>\n",
       "<table border=\"1\" class=\"dataframe\">\n",
       "  <thead>\n",
       "    <tr style=\"text-align: right;\">\n",
       "      <th></th>\n",
       "      <th>latitude</th>\n",
       "      <th>longitude</th>\n",
       "      <th>housing_median_age</th>\n",
       "      <th>total_rooms</th>\n",
       "      <th>total_bedrooms</th>\n",
       "      <th>population</th>\n",
       "      <th>households</th>\n",
       "      <th>median_income</th>\n",
       "      <th>median_house_value</th>\n",
       "    </tr>\n",
       "  </thead>\n",
       "  <tbody>\n",
       "    <tr>\n",
       "      <th>0</th>\n",
       "      <td>37.88</td>\n",
       "      <td>-122.23</td>\n",
       "      <td>41.0</td>\n",
       "      <td>880.0</td>\n",
       "      <td>129.0</td>\n",
       "      <td>322.0</td>\n",
       "      <td>126.0</td>\n",
       "      <td>8.3252</td>\n",
       "      <td>452600.0</td>\n",
       "    </tr>\n",
       "    <tr>\n",
       "      <th>1</th>\n",
       "      <td>37.86</td>\n",
       "      <td>-122.22</td>\n",
       "      <td>21.0</td>\n",
       "      <td>7099.0</td>\n",
       "      <td>1106.0</td>\n",
       "      <td>2401.0</td>\n",
       "      <td>1138.0</td>\n",
       "      <td>8.3014</td>\n",
       "      <td>358500.0</td>\n",
       "    </tr>\n",
       "    <tr>\n",
       "      <th>2</th>\n",
       "      <td>37.85</td>\n",
       "      <td>-122.24</td>\n",
       "      <td>52.0</td>\n",
       "      <td>1467.0</td>\n",
       "      <td>190.0</td>\n",
       "      <td>496.0</td>\n",
       "      <td>177.0</td>\n",
       "      <td>7.2574</td>\n",
       "      <td>352100.0</td>\n",
       "    </tr>\n",
       "    <tr>\n",
       "      <th>3</th>\n",
       "      <td>37.85</td>\n",
       "      <td>-122.25</td>\n",
       "      <td>52.0</td>\n",
       "      <td>1274.0</td>\n",
       "      <td>235.0</td>\n",
       "      <td>558.0</td>\n",
       "      <td>219.0</td>\n",
       "      <td>5.6431</td>\n",
       "      <td>341300.0</td>\n",
       "    </tr>\n",
       "    <tr>\n",
       "      <th>4</th>\n",
       "      <td>37.85</td>\n",
       "      <td>-122.25</td>\n",
       "      <td>52.0</td>\n",
       "      <td>1627.0</td>\n",
       "      <td>280.0</td>\n",
       "      <td>565.0</td>\n",
       "      <td>259.0</td>\n",
       "      <td>3.8462</td>\n",
       "      <td>342200.0</td>\n",
       "    </tr>\n",
       "  </tbody>\n",
       "</table>\n",
       "</div>"
      ],
      "text/plain": [
       "   latitude  longitude  housing_median_age  total_rooms  total_bedrooms  \\\n",
       "0     37.88    -122.23                41.0        880.0           129.0   \n",
       "1     37.86    -122.22                21.0       7099.0          1106.0   \n",
       "2     37.85    -122.24                52.0       1467.0           190.0   \n",
       "3     37.85    -122.25                52.0       1274.0           235.0   \n",
       "4     37.85    -122.25                52.0       1627.0           280.0   \n",
       "\n",
       "   population  households  median_income  median_house_value  \n",
       "0       322.0       126.0         8.3252            452600.0  \n",
       "1      2401.0      1138.0         8.3014            358500.0  \n",
       "2       496.0       177.0         7.2574            352100.0  \n",
       "3       558.0       219.0         5.6431            341300.0  \n",
       "4       565.0       259.0         3.8462            342200.0  "
      ]
     },
     "execution_count": 8,
     "metadata": {},
     "output_type": "execute_result"
    }
   ],
   "source": [
    "housing.head()"
   ]
  },
  {
   "cell_type": "code",
   "execution_count": 9,
   "id": "8564048d",
   "metadata": {},
   "outputs": [
    {
     "data": {
      "text/plain": [
       "latitude                0\n",
       "longitude               0\n",
       "housing_median_age      0\n",
       "total_rooms             0\n",
       "total_bedrooms        207\n",
       "population              0\n",
       "households              0\n",
       "median_income           0\n",
       "median_house_value      0\n",
       "dtype: int64"
      ]
     },
     "execution_count": 9,
     "metadata": {},
     "output_type": "execute_result"
    }
   ],
   "source": [
    "housing.isna().sum()"
   ]
  },
  {
   "cell_type": "code",
   "execution_count": 10,
   "id": "50cb83d4",
   "metadata": {},
   "outputs": [
    {
     "data": {
      "text/plain": [
       "1166.0"
      ]
     },
     "execution_count": 10,
     "metadata": {},
     "output_type": "execute_result"
    }
   ],
   "source": [
    "housing.population.median()"
   ]
  },
  {
   "cell_type": "code",
   "execution_count": 11,
   "id": "de85e632",
   "metadata": {},
   "outputs": [],
   "source": [
    "n = len(housing)"
   ]
  },
  {
   "cell_type": "code",
   "execution_count": 12,
   "id": "7c8c7afd",
   "metadata": {},
   "outputs": [],
   "source": [
    "n_val = int(n*0.2)\n",
    "n_test = int(n*0.2)\n",
    "n_train = n-n_val-n_test  "
   ]
  },
  {
   "cell_type": "code",
   "execution_count": 13,
   "id": "fb87c3d1",
   "metadata": {},
   "outputs": [
    {
     "data": {
      "text/plain": [
       "True"
      ]
     },
     "execution_count": 13,
     "metadata": {},
     "output_type": "execute_result"
    }
   ],
   "source": [
    "n == n_train + n_val + n_test  "
   ]
  },
  {
   "cell_type": "code",
   "execution_count": 14,
   "id": "52626b36",
   "metadata": {},
   "outputs": [
    {
     "data": {
      "text/plain": [
       "array([    0,     1,     2, ..., 20637, 20638, 20639])"
      ]
     },
     "execution_count": 14,
     "metadata": {},
     "output_type": "execute_result"
    }
   ],
   "source": [
    "idx=np.arange(n)\n",
    "idx"
   ]
  },
  {
   "cell_type": "code",
   "execution_count": 15,
   "id": "258c78e6",
   "metadata": {},
   "outputs": [
    {
     "data": {
      "text/plain": [
       "array([20046,  3024, 15663, ...,  5390,   860, 15795])"
      ]
     },
     "execution_count": 15,
     "metadata": {},
     "output_type": "execute_result"
    }
   ],
   "source": [
    "np.random.seed(42)\n",
    "np.random.shuffle(idx)\n",
    "idx"
   ]
  },
  {
   "cell_type": "code",
   "execution_count": 40,
   "id": "4fb7815d",
   "metadata": {},
   "outputs": [],
   "source": [
    "df_train = housing.iloc[idx[:n_train]].drop(columns=['median_house_value']).reset_index(drop=True)\n",
    "df_val = housing.iloc[idx[n_train:n_train+n_val]].drop(columns=['median_house_value']).reset_index(drop=True)\n",
    "df_test = housing.iloc[idx[n_train+n_val:]].drop(columns=['median_house_value']).reset_index(drop=True)"
   ]
  },
  {
   "cell_type": "code",
   "execution_count": 41,
   "id": "bae32ee5",
   "metadata": {},
   "outputs": [],
   "source": [
    "y_train = np.log1p(housing.iloc[idx[:n_train],].median_house_value.values)\n",
    "y_val = np.log1p(housing.iloc[idx[n_train:n_train+n_val]].median_house_value.values)\n",
    "y_test = np.log1p(housing.iloc[idx[n_train+n_val:]].median_house_value.values)"
   ]
  },
  {
   "cell_type": "code",
   "execution_count": 42,
   "id": "d481131a",
   "metadata": {},
   "outputs": [
    {
     "name": "stdout",
     "output_type": "stream",
     "text": [
      "True\n",
      "True\n",
      "True\n"
     ]
    }
   ],
   "source": [
    "print(len(y_val) == len(df_val))\n",
    "print(len(y_test) == len(df_test))\n",
    "print(len(y_train) == len(df_train))"
   ]
  },
  {
   "cell_type": "code",
   "execution_count": 43,
   "id": "c0258c09",
   "metadata": {},
   "outputs": [
    {
     "data": {
      "text/plain": [
       "541.6202707110241"
      ]
     },
     "execution_count": 43,
     "metadata": {},
     "output_type": "execute_result"
    }
   ],
   "source": [
    "total_bed_mean = df_train['total_bedrooms'].mean()\n",
    "total_bed_mean"
   ]
  },
  {
   "cell_type": "code",
   "execution_count": 44,
   "id": "da735ea7",
   "metadata": {},
   "outputs": [],
   "source": [
    "def train_linear_regression(X, y):\n",
    "    ones = np.ones(X.shape[0])\n",
    "    X = np.column_stack([ones, X])\n",
    "\n",
    "    XTX = X.T.dot(X)\n",
    "    XTX_inv = np.linalg.inv(XTX)\n",
    "    w = XTX_inv.dot(X.T).dot(y)\n",
    "    \n",
    "    return w[0], w[1:]\n",
    "\n",
    "\n",
    "\n",
    "def rmse(y, y_pred):\n",
    "    error = y_pred - y\n",
    "    mse = (error ** 2).mean()\n",
    "    return np.sqrt(mse)"
   ]
  },
  {
   "cell_type": "code",
   "execution_count": 45,
   "id": "1cbd74b7",
   "metadata": {},
   "outputs": [],
   "source": [
    "X_train = df_train.copy()"
   ]
  },
  {
   "cell_type": "code",
   "execution_count": 46,
   "id": "a6dced89",
   "metadata": {},
   "outputs": [],
   "source": [
    "X_train['total_bedrooms'] = X_train['total_bedrooms'].fillna(0)"
   ]
  },
  {
   "cell_type": "code",
   "execution_count": 47,
   "id": "62547c6a",
   "metadata": {},
   "outputs": [
    {
     "data": {
      "text/plain": [
       "count    12384.000000\n",
       "mean       536.372012\n",
       "std        424.855848\n",
       "min          0.000000\n",
       "25%        293.000000\n",
       "50%        434.000000\n",
       "75%        649.250000\n",
       "max       6445.000000\n",
       "Name: total_bedrooms, dtype: float64"
      ]
     },
     "execution_count": 47,
     "metadata": {},
     "output_type": "execute_result"
    }
   ],
   "source": [
    "X_train['total_bedrooms'] .describe()"
   ]
  },
  {
   "cell_type": "code",
   "execution_count": 48,
   "id": "75d2853d",
   "metadata": {},
   "outputs": [
    {
     "data": {
      "text/plain": [
       "-11.459046830793762"
      ]
     },
     "execution_count": 48,
     "metadata": {},
     "output_type": "execute_result"
    }
   ],
   "source": [
    "W_0, W = train_linear_regression(X_train, y_train)\n",
    "W_0"
   ]
  },
  {
   "cell_type": "code",
   "execution_count": 49,
   "id": "090b6fee",
   "metadata": {},
   "outputs": [],
   "source": [
    "y_pred = W_0 + X_train.dot(W)"
   ]
  },
  {
   "cell_type": "code",
   "execution_count": 50,
   "id": "e21ffb4d",
   "metadata": {},
   "outputs": [
    {
     "data": {
      "image/png": "[encoded data removed]",
      "text/plain": [
       "<Figure size 600x400 with 1 Axes>"
      ]
     },
     "metadata": {},
     "output_type": "display_data"
    }
   ],
   "source": [
    "plt.figure(figsize=(6, 4))\n",
    "\n",
    "sns.histplot(y_train, label='target', color='blue', alpha=0.5, bins=40)\n",
    "sns.histplot(y_pred, label='prediction', color='red', alpha=0.4, bins=40)\n",
    "\n",
    "plt.legend()\n",
    "\n",
    "plt.ylabel('Frequency')\n",
    "plt.xlabel('Log(Price + 1)')\n",
    "plt.title('Predictions vs actual distribution')\n",
    "\n",
    "plt.show()"
   ]
  },
  {
   "cell_type": "code",
   "execution_count": 51,
   "id": "f949b12d",
   "metadata": {},
   "outputs": [
    {
     "data": {
      "text/plain": [
       "0.34"
      ]
     },
     "execution_count": 51,
     "metadata": {},
     "output_type": "execute_result"
    }
   ],
   "source": [
    "round(rmse(y_train, y_pred),2)"
   ]
  },
  {
   "cell_type": "code",
   "execution_count": 52,
   "id": "36527319",
   "metadata": {},
   "outputs": [],
   "source": [
    "X_train = df_train.copy()"
   ]
  },
  {
   "cell_type": "code",
   "execution_count": 53,
   "id": "9daedb2e",
   "metadata": {},
   "outputs": [],
   "source": [
    "X_train['total_bedrooms'] = X_train['total_bedrooms'].fillna(total_bed_mean)"
   ]
  },
  {
   "cell_type": "code",
   "execution_count": 54,
   "id": "fb4baf20",
   "metadata": {},
   "outputs": [
    {
     "data": {
      "text/plain": [
       "count    12384.000000\n",
       "mean       541.620271\n",
       "std        421.529650\n",
       "min          1.000000\n",
       "25%        298.000000\n",
       "50%        440.000000\n",
       "75%        649.250000\n",
       "max       6445.000000\n",
       "Name: total_bedrooms, dtype: float64"
      ]
     },
     "execution_count": 54,
     "metadata": {},
     "output_type": "execute_result"
    }
   ],
   "source": [
    "X_train['total_bedrooms'].describe()"
   ]
  },
  {
   "cell_type": "code",
   "execution_count": 55,
   "id": "91fa1a9d",
   "metadata": {},
   "outputs": [],
   "source": [
    "W_0, W = train_linear_regression(X_train, y_train)"
   ]
  },
  {
   "cell_type": "code",
   "execution_count": 56,
   "id": "5df7f164",
   "metadata": {},
   "outputs": [
    {
     "data": {
      "text/plain": [
       "-11.536506897854355"
      ]
     },
     "execution_count": 56,
     "metadata": {},
     "output_type": "execute_result"
    }
   ],
   "source": [
    "y_pred = W_0 + X_train.dot(W)\n",
    "W_0"
   ]
  },
  {
   "cell_type": "code",
   "execution_count": 57,
   "id": "a868cfec",
   "metadata": {},
   "outputs": [
    {
     "data": {
      "image/png": "[encoded data removed]",
      "text/plain": [
       "<Figure size 600x400 with 1 Axes>"
      ]
     },
     "metadata": {},
     "output_type": "display_data"
    }
   ],
   "source": [
    "plt.figure(figsize=(6, 4))\n",
    "\n",
    "sns.histplot(y_train, label='target', color='blue', alpha=0.5, bins=40)\n",
    "sns.histplot(y_pred, label='prediction', color='red', alpha=0.4, bins=40)\n",
    "\n",
    "plt.legend()\n",
    "\n",
    "plt.ylabel('Frequency')\n",
    "plt.xlabel('Log(Price + 1)')\n",
    "plt.title('Predictions vs actual distribution')\n",
    "\n",
    "plt.show()"
   ]
  },
  {
   "cell_type": "code",
   "execution_count": 58,
   "id": "1febf25b",
   "metadata": {},
   "outputs": [
    {
     "data": {
      "text/plain": [
       "0.34"
      ]
     },
     "execution_count": 58,
     "metadata": {},
     "output_type": "execute_result"
    }
   ],
   "source": [
    "round(rmse(y_train, y_pred),2)"
   ]
  },
  {
   "cell_type": "code",
   "execution_count": 59,
   "id": "2ac3980c",
   "metadata": {},
   "outputs": [],
   "source": [
    "def train_linear_regression_reg(X, y, r=0.0):\n",
    "    ones = np.ones(X.shape[0])\n",
    "    X = np.column_stack([ones, X])\n",
    "\n",
    "    XTX = X.T.dot(X)\n",
    "    reg = r * np.eye(XTX.shape[0])\n",
    "    XTX = XTX + reg\n",
    "\n",
    "    XTX_inv = np.linalg.inv(XTX)\n",
    "    w = XTX_inv.dot(X.T).dot(y)\n",
    "    \n",
    "    return w[0], w[1:]"
   ]
  },
  {
   "cell_type": "code",
   "execution_count": 60,
   "id": "23b3649f",
   "metadata": {},
   "outputs": [
    {
     "name": "stdout",
     "output_type": "stream",
     "text": [
      "     0 -11.459046830793762 0.3409703957284104\n",
      "val 0.33659261241904254\n",
      " 1e-06 -11.459031377912467 0.3409703957284315\n",
      "val 0.3365926118952892\n",
      "0.0001 -11.457501750493533 0.34097039593813017\n",
      "val 0.3365925602650532\n",
      " 0.001 -11.44361475048918 0.34097041664957933\n",
      "val 0.3365921097086795\n",
      "  0.01 -11.30657360163033 0.34097243804423527\n",
      "val 0.3365894179960646\n",
      "   0.1 -10.097341975384653 0.3411332500467885\n",
      "val 0.33670374520098756\n",
      "     1 -4.878283028044792 0.34475383541131505\n",
      "val 0.3400258688362358\n",
      "     5 -1.477789775444887 0.34961287667138763\n",
      "val 0.3446117157605363\n",
      "    10 -0.7885673331385608 0.3508302771217229\n",
      "val 0.345768571820661\n"
     ]
    }
   ],
   "source": [
    "X_train = df_train.copy()\n",
    "X_train['total_bedrooms'] = X_train['total_bedrooms'].fillna(0)\n",
    "X_val = df_val.copy()\n",
    "X_val['total_bedrooms'] = X_val['total_bedrooms'].fillna(0)\n",
    "\n",
    "\n",
    "for r in [0, 0.000001, 0.0001, 0.001, 0.01, 0.1, 1, 5, 10]:\n",
    "    w_0, w = train_linear_regression_reg(X_train, y_train, r=r)\n",
    "    y_pred = w_0 + X_train.dot(w)\n",
    "    print('%6s' %r, w_0, rmse(y_train, y_pred))\n",
    "    y_pred = w_0 + X_val.dot(w)\n",
    "    print('val', rmse(y_val, y_pred))"
   ]
  },
  {
   "cell_type": "code",
   "execution_count": 62,
   "id": "71b2bb14",
   "metadata": {},
   "outputs": [
    {
     "name": "stdout",
     "output_type": "stream",
     "text": [
      "val 0 0.33884304805303195\n",
      "val 1 0.33623872559566237\n",
      "val 2 0.33209123188331624\n",
      "val 3 0.3405153609037783\n",
      "val 4 0.3389024066574298\n",
      "val 5 0.34348667257187326\n",
      "val 6 0.3451980953099157\n",
      "val 7 0.3395989927407543\n",
      "val 8 0.3466230873199136\n",
      "val 9 0.33659261241904254\n"
     ]
    }
   ],
   "source": [
    "metric=[]\n",
    "for s in [0, 1, 2, 3, 4, 5, 6, 7, 8, 9]:\n",
    "    idx=np.arange(n)\n",
    "    np.random.seed(s)\n",
    "    np.random.shuffle(idx)\n",
    "\n",
    "    df_train = housing.iloc[idx[:n_train]].drop(columns=['median_house_value']).reset_index(drop=True)\n",
    "    df_val = housing.iloc[idx[n_train:n_train+n_val]].drop(columns=['median_house_value']).reset_index(drop=True)\n",
    "    df_test = housing.iloc[idx[n_train+n_val:]].drop(columns=['median_house_value']).reset_index(drop=True)\n",
    "    \n",
    "    y_train = np.log1p(housing.iloc[idx[:n_train],].median_house_value.values)\n",
    "    y_val = np.log1p(housing.iloc[idx[n_train:n_train+n_val]].median_house_value.values)\n",
    "    y_test = np.log1p(housing.iloc[idx[n_train+n_val:]].median_house_value.values)\n",
    "    \n",
    "    X_train = df_train.copy()\n",
    "    X_train['total_bedrooms'] = X_train['total_bedrooms'].fillna(0)\n",
    "    X_val = df_val.copy()\n",
    "    X_val['total_bedrooms'] = X_val['total_bedrooms'].fillna(0)\n",
    "\n",
    "    w_0, w = train_linear_regression(X_train, y_train)\n",
    "#     y_pred = w_0 + X_train.dot(w)\n",
    "#     print('%6s' %r, w_0, rmse(y_train, y_pred))\n",
    "    y_pred = w_0 + X_val.dot(w)\n",
    "    metric.append(rmse(y_val, y_pred))\n",
    "    print('val', s , rmse(y_val, y_pred))"
   ]
  },
  {
   "cell_type": "code",
   "execution_count": 66,
   "id": "76aafe71",
   "metadata": {},
   "outputs": [
    {
     "data": {
      "text/plain": [
       "0.004"
      ]
     },
     "execution_count": 66,
     "metadata": {},
     "output_type": "execute_result"
    }
   ],
   "source": [
    "round(np.std(metric),3)"
   ]
  },
  {
   "cell_type": "code",
   "execution_count": 70,
   "id": "1df5ae2c",
   "metadata": {},
   "outputs": [
    {
     "name": "stdout",
     "output_type": "stream",
     "text": [
      "val 9 0.7301247804627284\n"
     ]
    }
   ],
   "source": [
    "idx=np.arange(n)\n",
    "np.random.seed(9)\n",
    "np.random.shuffle(idx) \n",
    "\n",
    "n_val = int(0.2 * n)\n",
    "n_test = int(0.2 * n)\n",
    "n_train = n - (n_val + n_test)\n",
    "\n",
    "# df_val = housing.iloc[idx[:n_val]].drop(columns=['median_house_value']).reset_index(drop=True)\n",
    "# df_test = housing.iloc[idx[n_val:n_val+n_test]].drop(columns=['median_house_value']).reset_index(drop=True)\n",
    "# df_train = housing.iloc[idx[n_val+n_test:]].drop(columns=['median_house_value']).reset_index(drop=True)\n",
    "\n",
    "df_train = housing.iloc[idx[:n_train]].drop(columns=['median_house_value']).reset_index(drop=True)\n",
    "df_val = housing.iloc[idx[n_train:n_train+n_val]].drop(columns=['median_house_value']).reset_index(drop=True)\n",
    "df_test = housing.iloc[idx[n_train+n_val:]].drop(columns=['median_house_value']).reset_index(drop=True)\n",
    "\n",
    "\n",
    "# df_shuffled = housing.iloc[idx]\n",
    "\n",
    "# df_train = df_shuffled.iloc[:n_train].copy()\n",
    "# df_val = df_shuffled.iloc[n_train:n_train+n_val].copy()\n",
    "# df_test = df_shuffled.iloc[n_train+n_val:].copy()\n",
    "\n",
    "y_train = np.log1p(housing.iloc[idx[:n_train],].median_house_value.values)\n",
    "y_val = np.log1p(housing.iloc[idx[n_train:n_train+n_val]].median_house_value.values)\n",
    "y_test = np.log1p(housing.iloc[idx[n_train+n_val:]].median_house_value.values)\n",
    "\n",
    "# y_train_orig = df_train.median_house_value.values\n",
    "# y_val_orig = df_val.median_house_value.values\n",
    "# y_test_orig = df_test.median_house_value.values\n",
    "\n",
    "# y_train = np.log1p(df_train.median_house_value.values)\n",
    "# y_val = np.log1p(df_val.median_house_value.values)\n",
    "# y_test = np.log1p(df_test.median_house_value.values)\n",
    "\n",
    "# del df_train['median_house_value']\n",
    "# del df_val['median_house_value']\n",
    "# del df_test['median_house_value']\n",
    "\n",
    "df_train = pd.concat([df_val, df_train])\n",
    "y_train = np.append( y_val , y_train )\n",
    "\n",
    "X_train = df_train.copy()\n",
    "X_train['total_bedrooms'] = X_train['total_bedrooms'].fillna(0)\n",
    "X_val = df_val.copy()\n",
    "X_val['total_bedrooms'] = X_val['total_bedrooms'].fillna(0)\n",
    "X_test = df_val.copy()\n",
    "X_test['total_bedrooms'] = X_test['total_bedrooms'].fillna(0)\n",
    "\n",
    "w_0, w = train_linear_regression_reg(X_train, y_train, r=0.001)\n",
    "#     y_pred = w_0 + X_train.dot(w)\n",
    "#     print('%6s' %r, w_0, rmse(y_train, y_pred))\n",
    "y_pred = w_0 + X_test.dot(w)\n",
    "print('val', s , rmse(y_test, y_pred))"
   ]
  }
 ],
 "metadata": {
  "kernelspec": {
   "display_name": "Python 3 (ipykernel)",
   "language": "python",
   "name": "python3"
  },
  "language_info": {
   "codemirror_mode": {
    "name": "ipython",
    "version": 3
   },
   "file_extension": ".py",
   "mimetype": "text/x-python",
   "name": "python",
   "nbconvert_exporter": "python",
   "pygments_lexer": "ipython3",
   "version": "3.8.10"
  }
 },
 "nbformat": 4,
 "nbformat_minor": 5
}
